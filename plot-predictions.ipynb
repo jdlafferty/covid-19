{
 "cells": [
  {
   "cell_type": "code",
   "execution_count": 1,
   "metadata": {},
   "outputs": [
    {
     "name": "stdout",
     "output_type": "stream",
     "text": [
      "covid19: Most recent NY Times data: Sunday April 12, 2020\n",
      "covid19_predict: initializing for simulation\n",
      "covid19_predict: running Gibbs sampler: n=3227, B=10000\n",
      "covid19_predict: making predictions\n"
     ]
    }
   ],
   "source": [
    "import covid19 as cvd\n",
    "import covid19_predict as cvd_predict"
   ]
  },
  {
   "cell_type": "code",
   "execution_count": 2,
   "metadata": {},
   "outputs": [
    {
     "data": {
      "text/html": [
       "<div>\n",
       "<style scoped>\n",
       "    .dataframe tbody tr th:only-of-type {\n",
       "        vertical-align: middle;\n",
       "    }\n",
       "\n",
       "    .dataframe tbody tr th {\n",
       "        vertical-align: top;\n",
       "    }\n",
       "\n",
       "    .dataframe thead th {\n",
       "        text-align: right;\n",
       "    }\n",
       "</style>\n",
       "<table border=\"1\" class=\"dataframe\">\n",
       "  <thead>\n",
       "    <tr style=\"text-align: right;\">\n",
       "      <th></th>\n",
       "      <th>date</th>\n",
       "      <th>county</th>\n",
       "      <th>state</th>\n",
       "      <th>cases</th>\n",
       "      <th>deaths</th>\n",
       "      <th>population</th>\n",
       "      <th>cases_per_100k</th>\n",
       "      <th>delta</th>\n",
       "      <th>delta_bar</th>\n",
       "      <th>delta_95</th>\n",
       "      <th>delta_05</th>\n",
       "      <th>cases_predicted</th>\n",
       "      <th>cases_95_credible</th>\n",
       "      <th>cases_05_credible</th>\n",
       "    </tr>\n",
       "  </thead>\n",
       "  <tbody>\n",
       "    <tr>\n",
       "      <th>86</th>\n",
       "      <td>2020-04-12</td>\n",
       "      <td>New Haven</td>\n",
       "      <td>Connecticut</td>\n",
       "      <td>2946</td>\n",
       "      <td>119</td>\n",
       "      <td>854757</td>\n",
       "      <td>344.7</td>\n",
       "      <td>27.1</td>\n",
       "      <td>25.62</td>\n",
       "      <td>34.86</td>\n",
       "      <td>18.86</td>\n",
       "      <td>3165</td>\n",
       "      <td>3244</td>\n",
       "      <td>3107</td>\n",
       "    </tr>\n",
       "  </tbody>\n",
       "</table>\n",
       "</div>"
      ],
      "text/plain": [
       "          date     county        state  cases  deaths  population  \\\n",
       "86  2020-04-12  New Haven  Connecticut   2946     119      854757   \n",
       "\n",
       "    cases_per_100k  delta  delta_bar  delta_95  delta_05  cases_predicted  \\\n",
       "86           344.7   27.1      25.62     34.86     18.86             3165   \n",
       "\n",
       "    cases_95_credible  cases_05_credible  \n",
       "86               3244               3107  "
      ]
     },
     "execution_count": 2,
     "metadata": {},
     "output_type": "execute_result"
    }
   ],
   "source": [
    "cvd_predict.df[cvd_predict.df['county']=='New Haven']"
   ]
  },
  {
   "cell_type": "code",
   "execution_count": 3,
   "metadata": {
    "scrolled": false
   },
   "outputs": [
    {
     "data": {
      "image/png": "[encoded data removed]",
      "text/plain": [
       "<Figure size 504x360 with 1 Axes>"
      ]
     },
     "metadata": {
      "needs_background": "light"
     },
     "output_type": "display_data"
    },
    {
     "data": {
      "image/png": "[encoded data removed]",
      "text/plain": [
       "<Figure size 504x360 with 1 Axes>"
      ]
     },
     "metadata": {
      "needs_background": "light"
     },
     "output_type": "display_data"
    }
   ],
   "source": [
    "_ = cvd_predict.plot_predictions_for_addr('Stamford, CT', savePath='.', show=True)\n",
    "_ = cvd_predict.plot_predictions_for_addr('New Haven, CT', savePath='.', show=True)\n"
   ]
  }
 ],
 "metadata": {
  "kernelspec": {
   "display_name": "Python 3",
   "language": "python",
   "name": "python3"
  },
  "language_info": {
   "codemirror_mode": {
    "name": "ipython",
    "version": 3
   },
   "file_extension": ".py",
   "mimetype": "text/x-python",
   "name": "python",
   "nbconvert_exporter": "python",
   "pygments_lexer": "ipython3",
   "version": "3.6.8"
  }
 },
 "nbformat": 4,
 "nbformat_minor": 4
}
